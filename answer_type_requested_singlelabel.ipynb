{
  "cells": [
    {
      "cell_type": "markdown",
      "metadata": {
        "id": "yMkhYkJ-UzDZ"
      },
      "source": [
        "## Install dependencies"
      ]
    },
    {
      "cell_type": "code",
      "execution_count": 26,
      "metadata": {
        "id": "xolwvwazUy2_"
      },
      "outputs": [],
      "source": [
        "!pip install -Uq openai"
      ]
    },
    {
      "cell_type": "markdown",
      "metadata": {
        "id": "fBMNky9KVV7y"
      },
      "source": [
        "## Imports"
      ]
    },
    {
      "cell_type": "code",
      "execution_count": 23,
      "metadata": {
        "id": "LtwB2WckWePp"
      },
      "outputs": [],
      "source": [
        "from google.colab import files\n",
        "import pandas as pd\n",
        "import openai\n",
        "import io\n",
        "import os\n",
        "import time"
      ]
    },
    {
      "cell_type": "markdown",
      "metadata": {},
      "source": [
        "## Environment variables"
      ]
    },
    {
      "cell_type": "code",
      "execution_count": null,
      "metadata": {},
      "outputs": [],
      "source": [
        "os.environ[\"OPENAI_API_KEY\"] = \"...\"\n",
        "openai.api_key = os.getenv(\"OPENAI_API_KEY\")"
      ]
    },
    {
      "cell_type": "markdown",
      "metadata": {
        "id": "sYY_div4XgcM"
      },
      "source": [
        "## Transform uploaded file into a pandas dataframe"
      ]
    },
    {
      "cell_type": "code",
      "execution_count": null,
      "metadata": {
        "colab": {
          "base_uri": "https://localhost:8080/",
          "height": 206
        },
        "id": "wWBlYsm7Xf94",
        "outputId": "830ccfc5-951a-4316-c0eb-7e4cb9a70071"
      },
      "outputs": [],
      "source": [
        "df = pd.read_csv('answer_type_requested.csv')\n",
        "df2 = df.filter(['prompt','completion'], axis=1)\n",
        "df2.head(5)"
      ]
    },
    {
      "cell_type": "markdown",
      "metadata": {
        "id": "mWmWU-l4aFoh"
      },
      "source": [
        "## Save dataset as a jsonl file"
      ]
    },
    {
      "cell_type": "code",
      "execution_count": null,
      "metadata": {
        "id": "kDsjQaLVZ7V7"
      },
      "outputs": [],
      "source": [
        "df2.to_json(\"answer_type_requested.jsonl\", orient=\"records\", lines=True)"
      ]
    },
    {
      "cell_type": "markdown",
      "metadata": {
        "id": "374ZB2dHaKdM"
      },
      "source": [
        "## Prepare data with OpenAI data preparation tool"
      ]
    },
    {
      "cell_type": "code",
      "execution_count": null,
      "metadata": {
        "colab": {
          "base_uri": "https://localhost:8080/"
        },
        "id": "wk3szlKfaPhu",
        "outputId": "c4eb2499-5fa6-45c8-c81b-b4ad10691a6c"
      },
      "outputs": [],
      "source": [
        "!openai tools fine_tunes.prepare_data -f answer_type_requested.jsonl"
      ]
    },
    {
      "cell_type": "markdown",
      "metadata": {
        "id": "wIXbpXsjccGN"
      },
      "source": [
        "## Train the model"
      ]
    },
    {
      "cell_type": "code",
      "execution_count": null,
      "metadata": {
        "colab": {
          "base_uri": "https://localhost:8080/"
        },
        "id": "8lIXHW9zcdfn",
        "outputId": "0e1fdb20-ebb6-44a8-ebb4-fa5ccd0e656e"
      },
      "outputs": [],
      "source": [
        "!openai api fine_tunes.create -t \"answer_type_requested_prepared_train.jsonl\" -v \"answer_type_requested_prepared_valid.jsonl\" --compute_classification_metrics --classification_n_classes 3 -m davinci # 3 classes for computing metrics as there were no examples for the 4th class \"unknown / other\""
      ]
    },
    {
      "cell_type": "markdown",
      "metadata": {
        "id": "L6rlwXPuc49_"
      },
      "source": [
        "## Review training results"
      ]
    },
    {
      "cell_type": "code",
      "execution_count": null,
      "metadata": {
        "id": "7iK4n0N9hpNF"
      },
      "outputs": [],
      "source": [
        "!openai api fine_tunes.results -i ft-abcdef123456 > result.csv"
      ]
    },
    {
      "cell_type": "code",
      "execution_count": null,
      "metadata": {
        "colab": {
          "base_uri": "https://localhost:8080/",
          "height": 145
        },
        "id": "nLXHotDwhxJa",
        "outputId": "82c245fa-8954-4fd0-b1e4-be7cd2ff316e"
      },
      "outputs": [],
      "source": [
        "results = pd.read_csv('result.csv')\n",
        "results[results['classification/accuracy'].notnull()].tail(1)\n",
        "results[results['classification/accuracy'].notnull()]['classification/accuracy'].plot()"
      ]
    },
    {
      "cell_type": "markdown",
      "metadata": {},
      "source": [
        "## Compare fine-tuned model with one shot classification"
      ]
    },
    {
      "cell_type": "code",
      "execution_count": null,
      "metadata": {},
      "outputs": [],
      "source": [
        "fine_tuned_model_gpt3_davinci = 'davinci:ft-abcdef123456'\n",
        "one_shot_model_gpt3 = 'text-davinci-003'\n",
        "\n",
        "one_shot_prompt = '''You are a data expert working for a company that supports startup founders.\n",
        "You are analysing all asks posted on their online forum and classifying them into one of three categories that define what type of answer was requested.\n",
        "The three categories are: connection, favour, information.\n",
        "\n",
        "Here are some examples:\n",
        "\n",
        "ask: I'm looking to speak with someone that could advise us on the way to structure our next fundraising round. Any introductions would be appreciated!\n",
        "category: connection\n",
        "\n",
        "ask: We just launched on Product Hunt - would appreciate if you could upvote us!\n",
        "category: favour\n",
        "\n",
        "ask: What kind of slides would you include in a pre-seed pitch deck? Any great examples you could share?\n",
        "category: information\n",
        "\n",
        "ask: ASK_PROMPT\n",
        "category:'''\n",
        "\n",
        "validation_df = pd.read_json('answer_type_requested_prepared_valid.jsonl', lines=True)\n",
        "\n",
        "fine_tuned_gpt3_davinci_results = []\n",
        "one_shot_gpt3_results = []\n",
        "\n",
        "for row in validation_df.itertuples():\n",
        "  res_fine_tuned_gpt3_davinci = openai.Completion.create(model=fine_tuned_model_gpt3_davinci, prompt=row.prompt, max_tokens=1, temperature=0, logprobs=5)\n",
        "  fine_tuned_gpt3_davinci_results.append(res_fine_tuned_gpt3_davinci.choices[0].text)\n",
        "  modified_one_shot_prompt = one_shot_prompt.replace('ASK_PROMPT', row.prompt)\n",
        "  modified_one_shot_prompt = modified_one_shot_prompt.replace('\\\\nAnswer Type Requested:', '')\n",
        "  res_one_shot_gpt3 = openai.Completion.create(model=one_shot_model_gpt3, prompt=modified_one_shot_prompt, max_tokens=1, temperature=0)\n",
        "  one_shot_gpt3_results.append(res_one_shot_gpt3.choices[0].text)\n",
        "  print(row.Index)\n",
        "\n",
        "validation_df['fine_tuned_gpt3_davinci'] = fine_tuned_gpt3_davinci_results\n",
        "validation_df['one_shot_gpt3'] = one_shot_gpt3_results\n",
        "\n",
        "validation_df.to_csv('comparison.csv')\n",
        "files.download('comparison.csv')"
      ]
    }
  ],
  "metadata": {
    "colab": {
      "provenance": []
    },
    "kernelspec": {
      "display_name": "Python 3",
      "name": "python3"
    },
    "language_info": {
      "name": "python"
    }
  },
  "nbformat": 4,
  "nbformat_minor": 0
}
