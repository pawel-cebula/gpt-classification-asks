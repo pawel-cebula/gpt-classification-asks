{
  "cells": [
    {
      "cell_type": "markdown",
      "metadata": {
        "id": "yMkhYkJ-UzDZ"
      },
      "source": [
        "## Install dependencies"
      ]
    },
    {
      "cell_type": "code",
      "execution_count": null,
      "metadata": {
        "colab": {
          "base_uri": "https://localhost:8080/"
        },
        "id": "xolwvwazUy2_",
        "outputId": "fa05239d-b6b6-4fba-88f7-16859f559ab9"
      },
      "outputs": [],
      "source": [
        "!pip install -Uq openai"
      ]
    },
    {
      "cell_type": "markdown",
      "metadata": {
        "id": "fBMNky9KVV7y"
      },
      "source": [
        "## Imports and initial setup"
      ]
    },
    {
      "cell_type": "code",
      "execution_count": null,
      "metadata": {
        "id": "LtwB2WckWePp"
      },
      "outputs": [],
      "source": [
        "from google.colab import files\n",
        "import pandas as pd\n",
        "import openai\n",
        "import io\n",
        "import os\n",
        "import re"
      ]
    },
    {
      "cell_type": "markdown",
      "metadata": {},
      "source": [
        "## Environment variables"
      ]
    },
    {
      "cell_type": "code",
      "execution_count": null,
      "metadata": {},
      "outputs": [],
      "source": [
        "os.environ[\"OPENAI_API_KEY\"] = \"...\"\n",
        "openai.api_key = os.getenv(\"OPENAI_API_KEY\")"
      ]
    },
    {
      "cell_type": "markdown",
      "metadata": {
        "id": "sYY_div4XgcM"
      },
      "source": [
        "## Transform uploaded file into a pandas dataframe"
      ]
    },
    {
      "cell_type": "code",
      "execution_count": null,
      "metadata": {
        "colab": {
          "base_uri": "https://localhost:8080/",
          "height": 1000
        },
        "id": "wWBlYsm7Xf94",
        "outputId": "dbccbf35-7405-4573-dab4-f882d5cac775"
      },
      "outputs": [],
      "source": [
        "prompt_suffix = \"\\n\\n###\\n\\n\"\n",
        "completion_prefix = \" \"\n",
        "completion_separator = \"\\n\"\n",
        "completion_suffix = \" END\"\n",
        "\n",
        "df = (\n",
        "  pd\n",
        "    .read_csv('labeled_asks.csv')\n",
        "    .rename(columns={'MSG_TEXT': 'prompt', 'Answer Type Requested': 'completion' })\n",
        "    .filter(['prompt', 'completion'], axis=1)\n",
        ")\n",
        "\n",
        "# add common suffix pattern to prompt\n",
        "def add_prompt_suffix(ask):\n",
        "  return ask + prompt_suffix\n",
        "\n",
        "# add \" \" prefix, sort labels alphabetically and separate labels by \"\\n\"\n",
        "def parse_completion(completion):\n",
        "  if \",\" in completion:\n",
        "    completion = completion_separator.join(sorted(completion.split(\",\")))\n",
        "  return completion_prefix + completion + completion_suffix\n",
        "\n",
        "df['prompt'] = df['prompt'].apply(add_prompt_suffix)\n",
        "df['completion'] = df['completion'].apply(parse_completion)\n",
        "\n",
        "df.head(10)"
      ]
    },
    {
      "cell_type": "markdown",
      "metadata": {
        "id": "mWmWU-l4aFoh"
      },
      "source": [
        "## Save dataset as a jsonl file"
      ]
    },
    {
      "cell_type": "code",
      "execution_count": null,
      "metadata": {
        "id": "kDsjQaLVZ7V7"
      },
      "outputs": [],
      "source": [
        "df.to_json(\"answer_type_requested.jsonl\", orient=\"records\", lines=True)"
      ]
    },
    {
      "cell_type": "markdown",
      "metadata": {
        "id": "374ZB2dHaKdM"
      },
      "source": [
        "## Prepare data with OpenAI data preparation tool"
      ]
    },
    {
      "cell_type": "code",
      "execution_count": null,
      "metadata": {
        "colab": {
          "base_uri": "https://localhost:8080/"
        },
        "id": "wk3szlKfaPhu",
        "outputId": "c38a84f9-79dc-45d0-a7f7-bd293857a495"
      },
      "outputs": [],
      "source": [
        "!openai tools fine_tunes.prepare_data -f answer_type_requested.jsonl -q"
      ]
    },
    {
      "cell_type": "markdown",
      "metadata": {
        "id": "wIXbpXsjccGN"
      },
      "source": [
        "## Train the model"
      ]
    },
    {
      "cell_type": "code",
      "execution_count": null,
      "metadata": {
        "colab": {
          "base_uri": "https://localhost:8080/"
        },
        "id": "8lIXHW9zcdfn",
        "outputId": "c99f56a0-8d9e-4800-db10-f4fae88aa7a1"
      },
      "outputs": [],
      "source": [
        "!openai api fine_tunes.create -t \"answer_type_requested_prepared_train.jsonl\" -m davinci # not calculating classification metrics due to multilabel not being supported"
      ]
    },
    {
      "cell_type": "markdown",
      "metadata": {
        "id": "3FjW5144oVgF"
      },
      "source": [
        "## Compare fine-tuned model with one shot classification"
      ]
    },
    {
      "cell_type": "code",
      "execution_count": null,
      "metadata": {
        "colab": {
          "base_uri": "https://localhost:8080/",
          "height": 34
        },
        "id": "8CVH-oRxoY0V",
        "outputId": "5dc5d746-665d-4a1a-e8a4-ff928c526692"
      },
      "outputs": [],
      "source": [
        "fine_tuned_model = 'davinci:ft-abcdef123456'\n",
        "\n",
        "validation_df = pd.read_json('answer_type_requested_prepared_valid.jsonl', lines=True)\n",
        "\n",
        "validation_df[\"response_labels\"] = \"\"\n",
        "validation_df[\"completion_labels\"] = \"\"\n",
        "validation_df[\"accuracy\"] = \"\"\n",
        "\n",
        "def extract_labels(completion):\n",
        "  completion = re.sub(r\"^\\s?|\\sEND?\", \"\", completion)\n",
        "  return completion.split(\"\\n\")\n",
        "\n",
        "def calculate_accuracy(completion_labels, response_labels):\n",
        "  accuracy = 0\n",
        "  for label in completion_labels:\n",
        "    if label in response_labels:\n",
        "      accuracy += 1/len(completion_labels)\n",
        "  return accuracy\n",
        "\n",
        "for row in validation_df.itertuples():\n",
        "  res_fine_tuned = openai.Completion.create(model=fine_tuned_model, prompt=row.prompt, stop=\" END\", temperature=0.3, logprobs=5)\n",
        "  response_text = res_fine_tuned.choices[0].text\n",
        "  completion_labels = extract_labels(row.completion)\n",
        "  response_labels = extract_labels(response_text)\n",
        "  accuracy = calculate_accuracy(completion_labels, response_labels)\n",
        "  validation_df.loc[row.Index, 'completion_labels'] = \",\".join(completion_labels)\n",
        "  validation_df.loc[row.Index, 'response_labels'] = \",\".join(response_labels)\n",
        "  validation_df.loc[row.Index, 'accuracy'] = accuracy\n",
        "\n",
        "  print(row.Index)\n",
        "\n",
        "accuracy_score = validation_df['accuracy'].mean()\n",
        "print(\"accuracy_score: \" + str(accuracy_score*100) + \"%\")\n",
        "\n",
        "validation_df.to_csv('comparison.csv')\n",
        "files.download('comparison.csv')"
      ]
    }
  ],
  "metadata": {
    "colab": {
      "provenance": []
    },
    "kernelspec": {
      "display_name": "Python 3",
      "name": "python3"
    },
    "language_info": {
      "name": "python"
    }
  },
  "nbformat": 4,
  "nbformat_minor": 0
}
